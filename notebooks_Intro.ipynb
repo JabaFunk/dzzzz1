{
  "cells": [
    {
      "cell_type": "markdown",
      "id": "02584c63-90aa-461e-a9d5-ff502d72094f",
      "metadata": {},
      "source": [
        "Задание 1\n",
        "\n",
        "Из колоды в 52 карты извлекаются случайным образом 4 карты.\n",
        "\n",
        "1.1\n",
        "\n",
        "Найти вероятность того, что все карты – крести.\n",
        "\n",
        "В колоде имеется 52/4 = 13 крестовых карт. Вероятность того что первая карта будет крести 13/52, вероятность что вторая карта будет крести - 12/51 и так далее.\n",
        "\n",
        "Вероятность того что все карты будут крести:"
      ]
    },
    {
      "cell_type": "code",
      "execution_count": 1,
      "id": "1fb254f5-378b-430c-9f0a-4c7e8cc71824",
      "metadata": {
        "trusted": true
      },
      "outputs": [
        {
          "data": {
            "text/plain": [
              "0.26410564225690275"
            ]
          },
          "execution_count": 1,
          "metadata": {},
          "output_type": "execute_result"
        }
      ],
      "source": [
        "13/52*12/51*11/50*10/49*100"
      ]
    },
    {
      "cell_type": "markdown",
      "id": "40f66d7f-e9ae-495d-b5f3-d254f73e8463",
      "metadata": {},
      "source": [
        "1.2\n",
        "\n",
        "Найти вероятность, что среди этих карт окажется хотя бы один туз.\n",
        "\n",
        "Разобьем задачу на 4 случая: 1 туз и 3 не туза, 2 туза и 2 не туза, 3 туза и 1 не туз, 4 туза. Всего в колоде 4 туза и 48 не тузов."
      ]
    },
    {
      "cell_type": "code",
      "execution_count": 2,
      "id": "e2a46ea5-8df9-47ba-8f3d-f20b1dbf79a1",
      "metadata": {
        "trusted": true
      },
      "outputs": [
        {
          "data": {
            "text/plain": [
              "6.8235294117647065"
            ]
          },
          "execution_count": 2,
          "metadata": {},
          "output_type": "execute_result"
        }
      ],
      "source": [
        "(4*48*47*46 + 4*3*48*47 + 4*2*3*48 + 4*3*2*1) / (52*51*50*49) * 100\n"
      ]
    },
    {
      "cell_type": "markdown",
      "id": "8e053dbb-9d30-4303-8db5-8d2e541dca90",
      "metadata": {},
      "source": [
        "Задание 2\n",
        "\n",
        "На входной двери подъезда установлен кодовый замок, содержащий десять кнопок с цифрами от 0 до 9. Код содержит три цифры, которые нужно нажать одновременно. Какова вероятность того, что человек, не знающий код, откроет дверь с первой попытки?"
      ]
    },
    {
      "cell_type": "code",
      "execution_count": 3,
      "id": "6513682b-4dd4-439a-a560-2706060f8a22",
      "metadata": {
        "trusted": true
      },
      "outputs": [
        {
          "data": {
            "text/plain": [
              "0.8333333333333334"
            ]
          },
          "execution_count": 3,
          "metadata": {},
          "output_type": "execute_result"
        }
      ],
      "source": [
        "1/120*100"
      ]
    },
    {
      "cell_type": "markdown",
      "id": "2fb1f5f8-1a70-4b49-ab5f-c50c2f05bc82",
      "metadata": {},
      "source": [
        "Задание 3\n",
        "\n",
        "В ящике имеется 15 деталей, из которых 9 окрашены. Рабочий случайным образом извлекает 3 детали. Какова вероятность того, что все извлеченные детали окрашены?\n",
        "\n",
        "Аналогично первой задаче"
      ]
    },
    {
      "cell_type": "code",
      "execution_count": 4,
      "id": "07421a5e-ff4a-4c41-8135-847aa66255ff",
      "metadata": {
        "trusted": true
      },
      "outputs": [
        {
          "data": {
            "text/plain": [
              "18.461538461538463"
            ]
          },
          "execution_count": 4,
          "metadata": {},
          "output_type": "execute_result"
        }
      ],
      "source": [
        "(9*8*7) / (15*14*13) * 100\n"
      ]
    },
    {
      "cell_type": "markdown",
      "id": "d6335a56-d784-4f86-917e-6b194a20e1df",
      "metadata": {},
      "source": [
        "Задание 4\n",
        "\n",
        "В лотерее 100 билетов. Из них 2 выигрышных. Какова вероятность того, что 2 приобретенных билета окажутся выигрышными?"
      ]
    },
    {
      "cell_type": "code",
      "execution_count": 5,
      "id": "a4110b9d-d3bf-4775-bc62-4fd55dfd7392",
      "metadata": {
        "trusted": true
      },
      "outputs": [
        {
          "data": {
            "text/plain": [
              "0.0202020202020202"
            ]
          },
          "execution_count": 5,
          "metadata": {},
          "output_type": "execute_result"
        }
      ],
      "source": [
        "2/9900*100"
      ]
    },
    {
      "cell_type": "code",
      "execution_count": null,
      "id": "7d0d6229-481d-41f3-903c-39b0be4089b0",
      "metadata": {},
      "outputs": [],
      "source": []
    }
  ],
  "metadata": {
    "kernelspec": {
      "display_name": "Python 3",
      "language": "python",
      "name": "python3"
    },
    "language_info": {
      "codemirror_mode": {
        "name": "python",
        "version": 3
      },
      "file_extension": ".py",
      "mimetype": "text/x-python",
      "name": "python",
      "nbconvert_exporter": "python",
      "pygments_lexer": "ipython3",
      "version": "3.10.4 (main, Jun 29 2022, 12:14:53) [GCC 11.2.0]"
    },
    "vscode": {
      "interpreter": {
        "hash": "916dbcbb3f70747c44a77c7bcd40155683ae19c65e1c03b4aa3499c5328201f1"
      }
    }
  },
  "nbformat": 4,
  "nbformat_minor": 5
}
